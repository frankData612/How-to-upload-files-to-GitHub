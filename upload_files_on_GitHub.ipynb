{
 "cells": [
  {
   "cell_type": "markdown",
   "metadata": {},
   "source": [
    "## Push to GitHub"
   ]
  },
  {
   "cell_type": "markdown",
   "metadata": {},
   "source": [
    "Follow the steps to upload files to GitHub\n",
    "\n",
    "1. Open a GitHub account   \n",
    "2. Create a repository on your GitHub account\n",
    "3. Open your terminal on your computer. On Windows OS I used 'cmd' search to locate the terminal. For more info check Microsoft's GitHub account on how to locate [Windows terminal.](https://github.com/microsoft/terminal)  On Mac OS search for 'Terminal' on the 'Spotlight Search' or go to 'Launchpad' and locate the Terminal there. \n",
    "4. Know the path of the files you want to push to your GitHub account. \n",
    "\n",
    "### From Terminal \n",
    "5. Open the Terminal window on your local computer and change the directory to where the files are located. Example    \n",
    "    <code>cd desktop/myfolder/ifAnotherFolder/ </code>\n",
    "6. Check if you are inside the right folder/directory by using       \n",
    "    <code>ls </code>\n",
    "7. Go to your repository on your GitHub account and copy the link from the 'Clone and download' green button.       \n",
    "8. Back to your Terminal type the following      \n",
    "    <code>git clone https://userID@github.com/your_account/your_repository </code>\n",
    "9. Then on your Terminal type again the following to move (mv) your file/s.      \n",
    "    <code>mv myFile.bla repositoryFolder/ </code>\n",
    "10. Change directory again to where you moved your file (downloaded repository folder).      \n",
    "    <code>cd repositoryFolder/ </code>\n",
    "11. Type the following to add the file       \n",
    "    <code>git add myFile.bla </code>\n",
    "12. Commit the file by typing the following     \n",
    "    <code>git commit -m \"Explain the file with minimal words\" </code>               \n",
    "13. Push the file to your GitHub repository.   \n",
    "    <code>git push origin master or main</code>     \n",
    "    On this last step, it may ask to provide your GitHub userid and password.\n",
    "14. Use the below in case of 403 error (The requested URL returned error: 403)                \n",
    "       <code>git remote set-url origin https://github-username@github.com/github-username/github-repository-name.git</code>      \n",
    "    <code>git remote set-url origin https://frankData612@github.com/frankData612/repository_name.git</code>\n",
    "    \n",
    "    To verify the new remote URL setting, type the following command:            \n",
    "    <code>git config -l | grep url</code>\n",
    "    \n",
    "    Now when you try to push changes to the GitHub repository, you are prompted for a password, and the push operation should succeed.      \n",
    "    After entering github password, repeat step 13      \n",
    "    <code>git push origin master or main</code>"
   ]
  },
  {
   "cell_type": "code",
   "execution_count": null,
   "metadata": {},
   "outputs": [],
   "source": []
  }
 ],
 "metadata": {
  "kernelspec": {
   "display_name": "Python 3",
   "language": "python",
   "name": "python3"
  },
  "language_info": {
   "codemirror_mode": {
    "name": "ipython",
    "version": 3
   },
   "file_extension": ".py",
   "mimetype": "text/x-python",
   "name": "python",
   "nbconvert_exporter": "python",
   "pygments_lexer": "ipython3",
   "version": "3.7.3"
  }
 },
 "nbformat": 4,
 "nbformat_minor": 2
}
